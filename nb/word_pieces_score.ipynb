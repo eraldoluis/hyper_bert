{
 "cells": [
  {
   "cell_type": "markdown",
   "source": [
    "# verificando o score das subwords\n",
    "## Se uma palavra tem várias subwords a sua pontuação será a soma das log probabilidades (após o softmax)\n"
   ],
   "metadata": {
    "collapsed": false,
    "pycharm": {
     "name": "#%% md\n"
    }
   }
  },
  {
   "cell_type": "code",
   "execution_count": 17,
   "outputs": [
    {
     "data": {
      "text/plain": "<Figure size 432x288 with 1 Axes>",
      "image/png": "[encoded data removed]"
     },
     "metadata": {
      "needs_background": "light"
     },
     "output_type": "display_data"
    }
   ],
   "source": [
    "import json\n",
    "import numpy as np\n",
    "import pandas as pd\n",
    "import seaborn as sns\n",
    "import matplotlib.pyplot as plt\n",
    "\n",
    "patterns = [\"{} é um tipo de {}\", \"{} é um {}\", \"{} e outros {}\", \"{} ou outro {}\", \"{} , um {}\"]\n",
    "\n",
    "with open(\"../models/neuralmind-bert-base-portuguese-cased/conceptnet-hypernym-1.json\", mode=\"r\") as f:\n",
    "    data_json = json.load(f)\n",
    "\n",
    "df = pd.DataFrame(columns=['data', 'hiponimo_len', 'hiponimo_sum','hiperonimo_len','hiperonimo_sum', 'classe', 'padrao', 'fonte'])\n",
    "idx = 0\n",
    "i=0\n",
    "for k, v in data_json.items():\n",
    "    for p, x in v.items():\n",
    "        df.loc[idx] = [k] + [len(x[0])] + [np.sum(x[0])] + [len(x[1])] + [np.sum(x[1])] + [k.split()[2]] + [p] +[k.split()[3]]\n",
    "        idx += 1\n",
    "\n",
    "plt.figure()\n",
    "df_hipo = df[df['padrao'] == patterns[0]][['hiponimo_len', 'hiponimo_sum']].rename(columns={'hiponimo_len':'size', 'hiponimo_sum':'sum'})\n",
    "df_hiper = df[df['padrao'] == patterns[0]][['hiperonimo_len', 'hiperonimo_sum']].rename(columns={'hiperonimo_len':'size', 'hiperonimo_sum':'sum'})\n",
    "df_plot = pd.concat([df_hipo, df_hiper])\n",
    "ax = sns.barplot(x='size', y='sum', ci=\"sd\", data=df_plot)\n",
    "_ = ax.set_title(\"Tamanho das subword e suas pontuações (Média e SD), dataset conceptnet-hypernym-1\")"
   ],
   "metadata": {
    "collapsed": false,
    "pycharm": {
     "name": "#%%\n"
    }
   }
  }
 ],
 "metadata": {
  "kernelspec": {
   "display_name": "Python 3",
   "language": "python",
   "name": "python3"
  },
  "language_info": {
   "codemirror_mode": {
    "name": "ipython",
    "version": 2
   },
   "file_extension": ".py",
   "mimetype": "text/x-python",
   "name": "python",
   "nbconvert_exporter": "python",
   "pygments_lexer": "ipython2",
   "version": "2.7.6"
  }
 },
 "nbformat": 4,
 "nbformat_minor": 0
}