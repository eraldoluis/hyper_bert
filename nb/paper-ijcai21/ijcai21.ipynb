{
 "cells": [
  {
   "cell_type": "markdown",
   "metadata": {
    "collapsed": true,
    "pycharm": {
     "name": "#%% md\n"
    }
   },
   "source": [
    "##IJCAI-21\n",
    "\n",
    "###Usando 10 datasets em inglês.\n",
    "\n",
    "### Modelo BERT base-uncased\n",
    "\n",
    "### Dataset DEV HypeNet usando para selecionar os melhores padrões"
   ]
  },
  {
   "cell_type": "code",
   "execution_count": null,
   "outputs": [],
   "source": [
    "import json\n",
    "import matplotlib.pyplot as plt\n",
    "import seaborn as sns\n",
    "import sys\n",
    "sys.path.append(\"/home/gabrielescobar/hyper_bert\")\n",
    "import nb_utils\n",
    "\n",
    "sns.set(style=\"whitegrid\")\n",
    "plt.clf()\n",
    "\n",
    "#server\n",
    "path_file_bert = \"../../en-model/bert-base-uncased_bert_score_2020-11-11_20:24:14_HypeNet_train/HypeNet_train.json\"\n",
    "json_data = json.load(open(path_file_bert))\n",
    "\n",
    "df_with_oov = nb_utils.create_dataframe(json_data, separator=\"\\t\")\n",
    "pattern_unique = df_with_oov['pattern'].unique().tolist()\n",
    "len_total_unique = df_with_oov['len_total'].unique().tolist()\n",
    "\n",
    "print(f\"DF all with OOV = {df_with_oov[df_with_oov['pattern'] == pattern_unique[0]].count()['hiponimo']}\")\n",
    "\n",
    "# df com oov\n",
    "df_with_oov = nb_utils.logsumexp_normalization(df_with_oov, len_list=len_total_unique, pattern_list=pattern_unique)\n",
    "\n",
    "# Balanceamento df_with_oov\n",
    "df_with_oov_ratio = nb_utils.balanceamento(df_with_oov, patterns=pattern_unique,len_size=len_total_unique)\n",
    "\n",
    "plt.figure(figsize=(10, 4))\n",
    "ax = sns.barplot(x=\"len_total\", y=\"ratio\", hue=\"true\", data=df_with_oov_ratio)\n",
    "ax.set(xlabel=\"Quantidade de subtokens\")\n",
    "ax.set_title(f\"% dos pares verdadeiros e suas frequências\")\n",
    "ax.legend(bbox_to_anchor=(1, 1))\n",
    "\n",
    "# AP por padrão\n",
    "df_plot = nb_utils.compute_dataframe_AP_by_pattern(df_with_oov, key_sort=\"score_final_log(z)\", pattern_list=pattern_unique)\n",
    "plt.figure(figsize=(15, 8))\n",
    "ax = sns.barplot(data=df_plot, x='padrao', y='AP')\n",
    "ax.set(xlabel=\"Padrão\")\n",
    "ax.set_title(f\"BERT AP por padrão. Score final é a soma do BERT - log(Z)\")\n",
    "plt.xticks(rotation=75)\n",
    "plt.show()\n",
    "\n",
    "print(f\"Melhores padrões usando score_final_log(Z)\")\n",
    "best_pattern_logz = df_plot.sort_values(by='AP', ascending=False)['padrao'].tolist()\n",
    "print(best_pattern_logz)\n",
    "\n",
    "# AP por n-rank\n",
    "df_plot = nb_utils.compute_AP_n_best_pattern(df_with_oov, key_sort=\"score_final_log(z)\", n_best_pattern=best_pattern_logz)\n",
    "plt.figure(figsize=(20, 8))\n",
    "ax = sns.barplot(data=df_plot, x='n_best_pattern', y='AP', hue='method')\n",
    "ax.set(xlabel=\"N Melhores Padrões\")\n",
    "ax.set_title(f\"AP por N melhores padrões. Score final é a soma do BERT - log(Z)\")\n",
    "ax.legend(bbox_to_anchor=(1, 1))\n",
    "plt.show()"
   ],
   "metadata": {
    "collapsed": false,
    "pycharm": {
     "name": "#%%\n"
    }
   }
  },
  {
   "cell_type": "code",
   "execution_count": null,
   "outputs": [],
   "source": [
    "df_mean = df_plot[df_plot['method'] == 'mean score_final_log(z)']\n",
    "df_mean = df_mean.sort_values(by='AP', ascending=False)\n",
    "print(f\"Melhor combinação de Melhores Padrões usando Média dos ranks entre eles\")\n",
    "print(df_mean.iloc[:4])\n",
    "\n",
    "print(f\"Melhor combinação de Melhores Padrões usando Minimo dos ranks entre eles\")\n",
    "df_min = df_plot[df_plot['method'] == 'min score_final_log(z)']\n",
    "df_min = df_min.sort_values(by='AP', ascending=False)\n",
    "print(df_min.iloc[:4])"
   ],
   "metadata": {
    "collapsed": false,
    "pycharm": {
     "name": "#%%\n"
    }
   }
  },
  {
   "cell_type": "code",
   "execution_count": null,
   "outputs": [],
   "source": [
    "# balanceamento do dataset inteiro\n",
    "df_size = nb_utils.balanceamento_all(df_with_oov, patterns=pattern_unique)\n",
    "print(df_size)"
   ],
   "metadata": {
    "collapsed": false,
    "pycharm": {
     "name": "#%%\n"
    }
   }
  },
  {
   "cell_type": "markdown",
   "source": [
    "## Balanceamento do Dataset e AP por padrão (usando bert_soma_total)\n",
    "#### Todo dataset\n",
    " - N = 49475 pares"
   ],
   "metadata": {
    "collapsed": false
   }
  },
  {
   "cell_type": "code",
   "execution_count": null,
   "outputs": [],
   "source": [
    "# Balanceamento df_with_oov\n",
    "df_with_oov_ratio = nb_utils.balanceamento(df_with_oov, patterns=pattern_unique,len_size=len_total_unique)\n",
    "\n",
    "plt.figure(figsize=(10, 4))\n",
    "ax = sns.barplot(x=\"len_total\", y=\"ratio\", hue=\"true\", data=df_with_oov_ratio)\n",
    "ax.set(xlabel=\"Quantidade de subtokens\")\n",
    "ax.set_title(f\"% dos pares verdadeiros e suas frequências\")\n",
    "ax.legend(bbox_to_anchor=(1, 1))\n",
    "\n",
    "# AP por padrão\n",
    "df_plot = nb_utils.compute_dataframe_AP_by_pattern(df_with_oov, key_sort=\"bert_soma_total\", pattern_list=pattern_unique)\n",
    "plt.figure(figsize=(15, 8))\n",
    "ax = sns.barplot(data=df_plot, x='padrao', y='AP')\n",
    "ax.set(xlabel=\"Padrão\")\n",
    "ax.set_title(f\"BERT AP por padrão. Score final é a soma do BERT\")\n",
    "plt.xticks(rotation=75)\n",
    "plt.show()\n",
    "\n",
    "print(f\"Melhores padrões usando bert_soma_total\")\n",
    "best_pattern_bert_soma_total = df_plot.sort_values(by='AP', ascending=False)['padrao'].tolist()\n",
    "print(best_pattern_bert_soma_total)\n",
    "\n",
    "# AP por n-rank\n",
    "df_plot = nb_utils.compute_AP_n_best_pattern(df_with_oov, key_sort=\"bert_soma_total\", n_best_pattern=best_pattern_bert_soma_total)\n",
    "plt.figure(figsize=(20, 8))\n",
    "ax = sns.barplot(data=df_plot, x='n_best_pattern', y='AP', hue='method')\n",
    "ax.set(xlabel=\"N Melhores Padrões\")\n",
    "ax.set_title(f\"AP por N melhores padrões. Score final é a soma do BERT\")\n",
    "ax.legend(bbox_to_anchor=(1, 1))\n",
    "plt.show()\n",
    "\n",
    "df_mean = df_plot[df_plot['method'] == 'mean bert_soma_total']\n",
    "df_mean = df_mean.sort_values(by='AP', ascending=False)\n",
    "print(f\"Melhor combinação de Melhores Padrões usando Média dos ranks entre eles\")\n",
    "print(df_mean.iloc[:4])\n",
    "\n",
    "print(f\"Melhor combinação de Melhores Padrões usando Minimo dos ranks entre eles\")\n",
    "df_min = df_plot[df_plot['method'] == 'min bert_soma_total']\n",
    "df_min = df_min.sort_values(by='AP', ascending=False)\n",
    "print(df_min.iloc[:4])\n",
    "\n",
    "# balanceamento do dataset inteiro\n",
    "df_size = nb_utils.balanceamento_all(df_with_oov, patterns=pattern_unique)\n",
    "print(df_size)"
   ],
   "metadata": {
    "collapsed": false,
    "pycharm": {
     "name": "#%%\n"
    }
   }
  }
 ],
 "metadata": {
  "kernelspec": {
   "display_name": "Python 3",
   "language": "python",
   "name": "python3"
  },
  "language_info": {
   "codemirror_mode": {
    "name": "ipython",
    "version": 2
   },
   "file_extension": ".py",
   "mimetype": "text/x-python",
   "name": "python",
   "nbconvert_exporter": "python",
   "pygments_lexer": "ipython2",
   "version": "2.7.6"
  }
 },
 "nbformat": 4,
 "nbformat_minor": 0
}